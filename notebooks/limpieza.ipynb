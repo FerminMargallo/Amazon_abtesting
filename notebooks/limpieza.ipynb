{
 "cells": [
  {
   "cell_type": "markdown",
   "id": "49b66d7d",
   "metadata": {},
   "source": [
    "# Cosas a limpiar\n",
    "- **Visit Date** -> Cambiar a tipo fecha\n",
    "- **Conversion** -> Cambiar a str?\n",
    "- **Product Category** -> Cambiar a minus. Cambiar FASHHION A Fashion\n",
    "- **Product id** -> Cambiar a numerica?\n",
    "- **Product name** -> Cambiar espacios por '_'\n",
    "- **Price** -> Tiene 40 nulos (2 %). Cambiar ',' por '.' y cambiar a tipo float\n",
    "- **Discount** -> Tiene 40 nulos (2 %). Cambiar ',' por '.' y cambiar a tipo float\n",
    "- **Total Value** -> Cambiar ',' por '.' y cambiar a tipo float\n",
    "- **Payment Method** -> Tiene 1753 (87.65 %) nulos\n",
    "- **Shipping Method** -> Tiene 1753 (87.65 %) nulos\n",
    "- **Customer Age** -> Tiene 40 nulos\n",
    "- **Device** -> Cambiar a minus\n",
    "- **Cupon used** -> Tiene 1753 nulos\n",
    "- **Browser** -> Cambiar las categorias porque estan mal escritas\n",
    "- **Referral Source** -> Cambiar a minus\n"
   ]
  },
  {
   "cell_type": "markdown",
   "id": "0e94f67d",
   "metadata": {
    "vscode": {
     "languageId": "plaintext"
    }
   },
   "source": [
    "En el excel de España, los decimales vienen delimitados por ,. Sin embargo, python reconoce los decimales con ."
   ]
  }
 ],
 "metadata": {
  "kernelspec": {
   "display_name": "Python 3",
   "language": "python",
   "name": "python3"
  },
  "language_info": {
   "codemirror_mode": {
    "name": "ipython",
    "version": 3
   },
   "file_extension": ".py",
   "mimetype": "text/x-python",
   "name": "python",
   "nbconvert_exporter": "python",
   "pygments_lexer": "ipython3",
   "version": "3.11.9"
  }
 },
 "nbformat": 4,
 "nbformat_minor": 5
}
