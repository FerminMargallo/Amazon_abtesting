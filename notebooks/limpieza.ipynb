{
 "cells": [
  {
   "cell_type": "code",
   "execution_count": 1,
   "id": "04431f35",
   "metadata": {},
   "outputs": [],
   "source": [
    "import pandas as pd\n",
    "pd.set_option('Display.max_columns',None)\n",
    "#Exploración de archivos\n",
    "import sys \n",
    "sys.path.append('../')\n",
    "#Funciones personalizadas\n",
    "from src import sp_limpieza as sl "
   ]
  },
  {
   "cell_type": "code",
   "execution_count": 2,
   "id": "ecc3dc2e",
   "metadata": {},
   "outputs": [
    {
     "data": {
      "text/html": [
       "<div>\n",
       "<style scoped>\n",
       "    .dataframe tbody tr th:only-of-type {\n",
       "        vertical-align: middle;\n",
       "    }\n",
       "\n",
       "    .dataframe tbody tr th {\n",
       "        vertical-align: top;\n",
       "    }\n",
       "\n",
       "    .dataframe thead th {\n",
       "        text-align: right;\n",
       "    }\n",
       "</style>\n",
       "<table border=\"1\" class=\"dataframe\">\n",
       "  <thead>\n",
       "    <tr style=\"text-align: right;\">\n",
       "      <th></th>\n",
       "      <th>User Id</th>\n",
       "      <th>Group</th>\n",
       "      <th>Visit Date</th>\n",
       "      <th>Conversion</th>\n",
       "      <th>Product Category</th>\n",
       "      <th>Product Id</th>\n",
       "      <th>Product Name</th>\n",
       "      <th>Quantity</th>\n",
       "      <th>Price</th>\n",
       "      <th>Discount</th>\n",
       "      <th>Total Value</th>\n",
       "      <th>Payment Method</th>\n",
       "      <th>Shipping Method</th>\n",
       "      <th>Region</th>\n",
       "      <th>Customer Age</th>\n",
       "      <th>Customer Gender</th>\n",
       "      <th>Device</th>\n",
       "      <th>Session Duration</th>\n",
       "      <th>Coupon Used</th>\n",
       "      <th>Browser</th>\n",
       "      <th>Referral Source</th>\n",
       "    </tr>\n",
       "  </thead>\n",
       "  <tbody>\n",
       "    <tr>\n",
       "      <th>98</th>\n",
       "      <td>99</td>\n",
       "      <td>A</td>\n",
       "      <td>2022-03-05</td>\n",
       "      <td>0</td>\n",
       "      <td>ELECTRONICS</td>\n",
       "      <td>P1329</td>\n",
       "      <td>Smartphone</td>\n",
       "      <td>0</td>\n",
       "      <td>563,38</td>\n",
       "      <td>0,12</td>\n",
       "      <td>0,0</td>\n",
       "      <td>NaN</td>\n",
       "      <td>NaN</td>\n",
       "      <td>Central</td>\n",
       "      <td>56.0</td>\n",
       "      <td>M</td>\n",
       "      <td>TABLET</td>\n",
       "      <td>15</td>\n",
       "      <td>NaN</td>\n",
       "      <td>Ottttther</td>\n",
       "      <td>Email</td>\n",
       "    </tr>\n",
       "    <tr>\n",
       "      <th>938</th>\n",
       "      <td>939</td>\n",
       "      <td>A</td>\n",
       "      <td>2022-01-16</td>\n",
       "      <td>0</td>\n",
       "      <td>FASHHION</td>\n",
       "      <td>P1970</td>\n",
       "      <td>Dress</td>\n",
       "      <td>0</td>\n",
       "      <td>57,22</td>\n",
       "      <td>0,17</td>\n",
       "      <td>0,0</td>\n",
       "      <td>NaN</td>\n",
       "      <td>NaN</td>\n",
       "      <td>Central</td>\n",
       "      <td>50.0</td>\n",
       "      <td>F</td>\n",
       "      <td>Mobile</td>\n",
       "      <td>18</td>\n",
       "      <td>NaN</td>\n",
       "      <td>Chrooome</td>\n",
       "      <td>Social</td>\n",
       "    </tr>\n",
       "    <tr>\n",
       "      <th>1830</th>\n",
       "      <td>1831</td>\n",
       "      <td>B</td>\n",
       "      <td>2022-02-26</td>\n",
       "      <td>0</td>\n",
       "      <td>TOYS</td>\n",
       "      <td>P1662</td>\n",
       "      <td>Action Figure</td>\n",
       "      <td>0</td>\n",
       "      <td>61,4</td>\n",
       "      <td>0,12</td>\n",
       "      <td>0,0</td>\n",
       "      <td>NaN</td>\n",
       "      <td>NaN</td>\n",
       "      <td>East</td>\n",
       "      <td>31.0</td>\n",
       "      <td>M</td>\n",
       "      <td>Desktop</td>\n",
       "      <td>24</td>\n",
       "      <td>NaN</td>\n",
       "      <td>Safaaaaari</td>\n",
       "      <td>Email</td>\n",
       "    </tr>\n",
       "    <tr>\n",
       "      <th>496</th>\n",
       "      <td>497</td>\n",
       "      <td>B</td>\n",
       "      <td>2022-03-15</td>\n",
       "      <td>0</td>\n",
       "      <td>HOME</td>\n",
       "      <td>P1314</td>\n",
       "      <td>Table</td>\n",
       "      <td>0</td>\n",
       "      <td>495,28</td>\n",
       "      <td>0,25</td>\n",
       "      <td>0,0</td>\n",
       "      <td>NaN</td>\n",
       "      <td>NaN</td>\n",
       "      <td>South</td>\n",
       "      <td>64.0</td>\n",
       "      <td>M</td>\n",
       "      <td>TABLET</td>\n",
       "      <td>2</td>\n",
       "      <td>NaN</td>\n",
       "      <td>Chrooome</td>\n",
       "      <td>PAID</td>\n",
       "    </tr>\n",
       "    <tr>\n",
       "      <th>1022</th>\n",
       "      <td>1023</td>\n",
       "      <td>B</td>\n",
       "      <td>2022-02-12</td>\n",
       "      <td>0</td>\n",
       "      <td>BEAUTY</td>\n",
       "      <td>P1736</td>\n",
       "      <td>Mascara</td>\n",
       "      <td>0</td>\n",
       "      <td>17,31</td>\n",
       "      <td>0,21</td>\n",
       "      <td>0,0</td>\n",
       "      <td>NaN</td>\n",
       "      <td>NaN</td>\n",
       "      <td>West</td>\n",
       "      <td>68.0</td>\n",
       "      <td>M</td>\n",
       "      <td>TABLET</td>\n",
       "      <td>21</td>\n",
       "      <td>NaN</td>\n",
       "      <td>Chrooome</td>\n",
       "      <td>Organic</td>\n",
       "    </tr>\n",
       "  </tbody>\n",
       "</table>\n",
       "</div>"
      ],
      "text/plain": [
       "      User Id Group  Visit Date  Conversion Product Category Product Id  \\\n",
       "98         99     A  2022-03-05           0      ELECTRONICS      P1329   \n",
       "938       939     A  2022-01-16           0         FASHHION      P1970   \n",
       "1830     1831     B  2022-02-26           0             TOYS      P1662   \n",
       "496       497     B  2022-03-15           0             HOME      P1314   \n",
       "1022     1023     B  2022-02-12           0           BEAUTY      P1736   \n",
       "\n",
       "       Product Name  Quantity   Price Discount Total Value Payment Method  \\\n",
       "98       Smartphone         0  563,38     0,12         0,0            NaN   \n",
       "938           Dress         0   57,22     0,17         0,0            NaN   \n",
       "1830  Action Figure         0    61,4     0,12         0,0            NaN   \n",
       "496           Table         0  495,28     0,25         0,0            NaN   \n",
       "1022        Mascara         0   17,31     0,21         0,0            NaN   \n",
       "\n",
       "     Shipping Method   Region  Customer Age Customer Gender   Device  \\\n",
       "98               NaN  Central          56.0               M   TABLET   \n",
       "938              NaN  Central          50.0               F   Mobile   \n",
       "1830             NaN     East          31.0               M  Desktop   \n",
       "496              NaN    South          64.0               M   TABLET   \n",
       "1022             NaN     West          68.0               M   TABLET   \n",
       "\n",
       "      Session Duration Coupon Used     Browser Referral Source  \n",
       "98                  15         NaN   Ottttther           Email  \n",
       "938                 18         NaN    Chrooome          Social  \n",
       "1830                24         NaN  Safaaaaari           Email  \n",
       "496                  2         NaN    Chrooome            PAID  \n",
       "1022                21         NaN    Chrooome         Organic  "
      ]
     },
     "execution_count": 2,
     "metadata": {},
     "output_type": "execute_result"
    }
   ],
   "source": [
    "df_raw=pd.read_csv(\"../Data/data_raw.csv\")\n",
    "df_raw.sample(5)"
   ]
  },
  {
   "cell_type": "code",
   "execution_count": 3,
   "id": "2a9458b3",
   "metadata": {},
   "outputs": [],
   "source": [
    "df=df_raw.copy()"
   ]
  },
  {
   "cell_type": "code",
   "execution_count": 4,
   "id": "80ea53fd",
   "metadata": {},
   "outputs": [
    {
     "data": {
      "text/plain": [
       "Index(['user_id', 'group', 'visit_date', 'conversion', 'product_category',\n",
       "       'product_id', 'product_name', 'quantity', 'price', 'discount',\n",
       "       'total_value', 'payment_method', 'shipping_method', 'region',\n",
       "       'customer_age', 'customer_gender', 'device', 'session_duration',\n",
       "       'coupon_used', 'browser', 'referral_source'],\n",
       "      dtype='object')"
      ]
     },
     "execution_count": 4,
     "metadata": {},
     "output_type": "execute_result"
    }
   ],
   "source": [
    "df.columns=df.columns.str.replace(' ','_').str.lower()\n",
    "df.columns"
   ]
  },
  {
   "cell_type": "markdown",
   "id": "7046fe09",
   "metadata": {},
   "source": [
    "### visit_date a fecha"
   ]
  },
  {
   "cell_type": "code",
   "execution_count": 5,
   "id": "cd96ef99",
   "metadata": {},
   "outputs": [],
   "source": [
    "df['visit_date']=pd.to_datetime(df['visit_date'],format='%Y-%m-%d')"
   ]
  },
  {
   "cell_type": "markdown",
   "id": "fd9bda0e",
   "metadata": {},
   "source": [
    "### Conversion a string"
   ]
  },
  {
   "cell_type": "code",
   "execution_count": 6,
   "id": "9edaedae",
   "metadata": {},
   "outputs": [],
   "source": [
    "df['conversion_str']=df['conversion'].apply(lambda x: 'yes' if x==1 else 'no')"
   ]
  },
  {
   "cell_type": "code",
   "execution_count": 7,
   "id": "539a1bfc",
   "metadata": {},
   "outputs": [
    {
     "data": {
      "text/html": [
       "<div>\n",
       "<style scoped>\n",
       "    .dataframe tbody tr th:only-of-type {\n",
       "        vertical-align: middle;\n",
       "    }\n",
       "\n",
       "    .dataframe tbody tr th {\n",
       "        vertical-align: top;\n",
       "    }\n",
       "\n",
       "    .dataframe thead th {\n",
       "        text-align: right;\n",
       "    }\n",
       "</style>\n",
       "<table border=\"1\" class=\"dataframe\">\n",
       "  <thead>\n",
       "    <tr style=\"text-align: right;\">\n",
       "      <th></th>\n",
       "      <th>conversion</th>\n",
       "      <th>conversion_str</th>\n",
       "    </tr>\n",
       "  </thead>\n",
       "  <tbody>\n",
       "    <tr>\n",
       "      <th>904</th>\n",
       "      <td>0</td>\n",
       "      <td>no</td>\n",
       "    </tr>\n",
       "    <tr>\n",
       "      <th>581</th>\n",
       "      <td>0</td>\n",
       "      <td>no</td>\n",
       "    </tr>\n",
       "    <tr>\n",
       "      <th>1996</th>\n",
       "      <td>0</td>\n",
       "      <td>no</td>\n",
       "    </tr>\n",
       "    <tr>\n",
       "      <th>1356</th>\n",
       "      <td>0</td>\n",
       "      <td>no</td>\n",
       "    </tr>\n",
       "    <tr>\n",
       "      <th>1883</th>\n",
       "      <td>0</td>\n",
       "      <td>no</td>\n",
       "    </tr>\n",
       "  </tbody>\n",
       "</table>\n",
       "</div>"
      ],
      "text/plain": [
       "      conversion conversion_str\n",
       "904            0             no\n",
       "581            0             no\n",
       "1996           0             no\n",
       "1356           0             no\n",
       "1883           0             no"
      ]
     },
     "execution_count": 7,
     "metadata": {},
     "output_type": "execute_result"
    }
   ],
   "source": [
    "df.loc[:,['conversion','conversion_str']].sample(5)"
   ]
  },
  {
   "cell_type": "markdown",
   "id": "57e5c644",
   "metadata": {},
   "source": [
    "### **Product Category** -> Cambiar FASHHION A Fashion"
   ]
  },
  {
   "cell_type": "code",
   "execution_count": 8,
   "id": "8b92ac0b",
   "metadata": {},
   "outputs": [],
   "source": [
    "df['product_category']=df['product_category'].str.replace('fashhion','fashion')"
   ]
  },
  {
   "cell_type": "markdown",
   "id": "608fd198",
   "metadata": {},
   "source": [
    "### **Product id** -> Cambiar a numerica?"
   ]
  },
  {
   "cell_type": "code",
   "execution_count": 9,
   "id": "ebbbf9d0",
   "metadata": {},
   "outputs": [],
   "source": [
    "df['product_id']=df['product_id'].str.replace('P','')"
   ]
  },
  {
   "cell_type": "code",
   "execution_count": 10,
   "id": "276ea6be",
   "metadata": {},
   "outputs": [],
   "source": [
    "df['product_id']=df['product_id'].astype('Int64')"
   ]
  },
  {
   "cell_type": "code",
   "execution_count": 11,
   "id": "a7a35e93",
   "metadata": {},
   "outputs": [],
   "source": [
    "sl.minus(df)"
   ]
  },
  {
   "cell_type": "code",
   "execution_count": 12,
   "id": "a41e9f88",
   "metadata": {},
   "outputs": [],
   "source": [
    "sl.comas(df)"
   ]
  },
  {
   "cell_type": "code",
   "execution_count": 13,
   "id": "4165a33d",
   "metadata": {},
   "outputs": [],
   "source": [
    "sl.espacios(df)"
   ]
  },
  {
   "cell_type": "markdown",
   "id": "1d8eec6b",
   "metadata": {},
   "source": [
    "### map de browser"
   ]
  },
  {
   "cell_type": "code",
   "execution_count": 14,
   "id": "75b58383",
   "metadata": {},
   "outputs": [
    {
     "data": {
      "text/plain": [
       "array(['safaaaaari', 'ottttther', 'firefoxxxxxx', 'eddddge', 'chrooome'],\n",
       "      dtype=object)"
      ]
     },
     "execution_count": 14,
     "metadata": {},
     "output_type": "execute_result"
    }
   ],
   "source": [
    "df['browser'].unique()"
   ]
  },
  {
   "cell_type": "code",
   "execution_count": 15,
   "id": "5922172f",
   "metadata": {},
   "outputs": [],
   "source": [
    "dic_map={'safaaaaari': 'safari',\n",
    "         'ottttther':'other',\n",
    "         'firefoxxxxxx':'firefox',\n",
    "        'eddddge': 'edge',\n",
    "         'chrooome': 'chrome' }"
   ]
  },
  {
   "cell_type": "code",
   "execution_count": 16,
   "id": "ed40f120",
   "metadata": {},
   "outputs": [],
   "source": [
    "df['browser']=df['browser'].map(dic_map)"
   ]
  },
  {
   "cell_type": "code",
   "execution_count": 17,
   "id": "4c5b4c24",
   "metadata": {},
   "outputs": [],
   "source": [
    "df.to_csv('../Data/data_limpios.csv',index=False)"
   ]
  }
 ],
 "metadata": {
  "kernelspec": {
   "display_name": ".venv",
   "language": "python",
   "name": "python3"
  },
  "language_info": {
   "codemirror_mode": {
    "name": "ipython",
    "version": 3
   },
   "file_extension": ".py",
   "mimetype": "text/x-python",
   "name": "python",
   "nbconvert_exporter": "python",
   "pygments_lexer": "ipython3",
   "version": "3.13.7"
  }
 },
 "nbformat": 4,
 "nbformat_minor": 5
}
